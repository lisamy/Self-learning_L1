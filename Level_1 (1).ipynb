{
 "cells": [
  {
   "cell_type": "markdown",
   "metadata": {},
   "source": [
    "# Artefacts - Julia\n",
    "## Section 1: Print function and slicing\n",
    "### This section looks at how to store, print and access string using Julia"
   ]
  },
  {
   "cell_type": "code",
   "execution_count": 45,
   "metadata": {},
   "outputs": [
    {
     "name": "stdout",
     "output_type": "stream",
     "text": [
      "Hello! How are you today?\n",
      "Hello! How are you today?\n",
      "Hello again!\n"
     ]
    }
   ],
   "source": [
    "# Storing variables\n",
    "string_1 = \"Hello\"\n",
    "string_2 = \"How are you today?\"\n",
    "# String concatenations\n",
    "string_3 = string(string_1, \"! \", string_2)\n",
    "# Printing strings\n",
    "println(string_3)\n",
    "string_4 = \"Hello\" * \" again\" * \"!\"\n",
    "# Printing strings\n",
    "println(string_3)\n",
    "println(string_4)"
   ]
  },
  {
   "cell_type": "code",
   "execution_count": 48,
   "metadata": {},
   "outputs": [
    {
     "name": "stdout",
     "output_type": "stream",
     "text": [
      "H\n"
     ]
    }
   ],
   "source": [
    "# Accessing individual elements of a string and slicing\n",
    "println(string_3[1])"
   ]
  },
  {
   "cell_type": "code",
   "execution_count": 49,
   "metadata": {},
   "outputs": [
    {
     "name": "stdout",
     "output_type": "stream",
     "text": [
      "ello! \n"
     ]
    }
   ],
   "source": [
    "println(string_3[2:7]) # should print ello!"
   ]
  },
  {
   "cell_type": "code",
   "execution_count": 50,
   "metadata": {},
   "outputs": [
    {
     "name": "stdout",
     "output_type": "stream",
     "text": [
      "H\n",
      "?\n"
     ]
    }
   ],
   "source": [
    "println(string_3[begin]) # should print H\n",
    "println(string_3[end]) # should print ?"
   ]
  },
  {
   "cell_type": "code",
   "execution_count": 51,
   "metadata": {},
   "outputs": [
    {
     "name": "stdout",
     "output_type": "stream",
     "text": [
      "y\n"
     ]
    }
   ],
   "source": [
    "println(string_3[end-1]) # should print y"
   ]
  },
  {
   "cell_type": "markdown",
   "metadata": {},
   "source": [
    "## Section 2: Conditional statements and some simple mathematical applications\n",
    "### This section looks at how to use if, elseif, else statements as well as asking user for input and simple mathematical equations\n",
    "Problem: Given a year, report if it is a leap year. A year is a leap year only if it is divisible by 4. It's not a leap year if it is divisible by 100 but not 400"
   ]
  },
  {
   "cell_type": "code",
   "execution_count": 7,
   "metadata": {},
   "outputs": [
    {
     "name": "stdout",
     "output_type": "stream",
     "text": [
      "What year do you want to find out?\n",
      "stdin> 2002\n"
     ]
    },
    {
     "data": {
      "text/plain": [
       "2002"
      ]
     },
     "execution_count": 7,
     "metadata": {},
     "output_type": "execute_result"
    }
   ],
   "source": [
    "println(\"What year do you want to find out?\")\n",
    "# User's input\n",
    "year = readline()\n",
    "year = parse(Int64, year)"
   ]
  },
  {
   "cell_type": "code",
   "execution_count": 8,
   "metadata": {},
   "outputs": [
    {
     "name": "stdout",
     "output_type": "stream",
     "text": [
      "2002 is not a leap year\n"
     ]
    }
   ],
   "source": [
    "# If year is divisible by 4\n",
    "if year % 4 == 0\n",
    "    if year % 100 == 0\n",
    "        # If a year divisible by 100, it is a leap year only if it is divisible by 400\n",
    "        if year % 400 == 0\n",
    "            println(year, \" is a leap year\")\n",
    "        else\n",
    "            println(year, \" is not a leap year\")\n",
    "        end\n",
    "    # All the years divisible by 4 beside from the multiples of 100 are leap years\n",
    "    else\n",
    "        println(year, \" is a leap year\")\n",
    "    end\n",
    "else\n",
    "    println(year, \" is not a leap year\")\n",
    "end"
   ]
  },
  {
   "cell_type": "markdown",
   "metadata": {},
   "source": [
    "## Section 3: Loops and functions\n",
    "### This section looks at while loops and conditional statements as well as writing functions\n",
    "Problem: user input the coordinate of a dart on a target. Calculate the distance between the dart and the origin of the target based on the distance, according to the distance different points are rewarded to user.\n"
   ]
  },
  {
   "cell_type": "code",
   "execution_count": 9,
   "metadata": {},
   "outputs": [
    {
     "name": "stdout",
     "output_type": "stream",
     "text": [
      "Input an integer for the x-coordinate of the dart board\n",
      "stdin> 3\n"
     ]
    },
    {
     "data": {
      "text/plain": [
       "3"
      ]
     },
     "execution_count": 9,
     "metadata": {},
     "output_type": "execute_result"
    }
   ],
   "source": [
    "println(\"Input an integer for the x-coordinate of the dart board\")\n",
    "x = readline()\n",
    "# Loop the question until a valid input is provided for the x-coordinate\n",
    "while (tryparse(Int64, x) !== nothing) == false\n",
    "    println(\"Input an integer for the x-coordinate of the dart board\")\n",
    "    global x = readline()\n",
    "\n",
    "end\n",
    "# If the input is valid convert the type into an integer\n",
    "if (tryparse(Int64, x) !== nothing) == true\n",
    "    global x = tryparse(Int64, x)\n",
    "end"
   ]
  },
  {
   "cell_type": "code",
   "execution_count": 11,
   "metadata": {},
   "outputs": [
    {
     "name": "stdout",
     "output_type": "stream",
     "text": [
      "Input an integer for the y-coordinate of the dart board\n",
      "stdin> 4\n"
     ]
    },
    {
     "data": {
      "text/plain": [
       "4"
      ]
     },
     "execution_count": 11,
     "metadata": {},
     "output_type": "execute_result"
    }
   ],
   "source": [
    "println(\"Input an integer for the y-coordinate of the dart board\")\n",
    "y = readline()\n",
    "# Loop the question until a valid input is provided for the y-coordinate\n",
    "while (tryparse(Int64, y) !== nothing) == false\n",
    "    println(\"Input an integer for the y-coordinate of the dart board\")\n",
    "    global y = readline()\n",
    "\n",
    "end\n",
    "\n",
    "# If the input is valid, convert the type into an integer\n",
    "if (tryparse(Int64, y) !== nothing) == true\n",
    "    global y = tryparse(Int64, y)\n",
    "end"
   ]
  },
  {
   "cell_type": "code",
   "execution_count": 12,
   "metadata": {},
   "outputs": [
    {
     "name": "stdout",
     "output_type": "stream",
     "text": [
      "You have earned 5 points\n"
     ]
    }
   ],
   "source": [
    "# Function to award points\n",
    "function distance(x, y)\n",
    "    distance = sqrt(x^2 + y^2)\n",
    "    # If the dart hits the inner circle, 10 points rewarded\n",
    "    if distance <= 1\n",
    "        return \"You have earned 10 points\"\n",
    "    # If the dart hits the middle circle, 5 points rewarded\n",
    "    elseif distance <=5\n",
    "        return \"You have earned 5 points\"\n",
    "    # If the dart hits the outer circle, 1 point rewarded\n",
    "    elseif distance <= 10\n",
    "        return \"You have earned 1 point\"\n",
    "    # If the dart did not hit the target, no points\n",
    "    else\n",
    "        return \"You have not earned a point\"\n",
    "    end\n",
    "end\n",
    "\n",
    "println(distance(x, y))"
   ]
  },
  {
   "cell_type": "markdown",
   "metadata": {},
   "source": [
    "## Section 4: More on while loops and simple counting\n",
    "### This section looks at while loops and simple addition problem\n",
    "Problem: given a string representing a DNA sequence, count how many of each nucleotide is present. If the string contains characters that aren't A, C, G, or T then it is invalid.\n"
   ]
  },
  {
   "cell_type": "code",
   "execution_count": 53,
   "metadata": {},
   "outputs": [
    {
     "name": "stdout",
     "output_type": "stream",
     "text": [
      "Please input a dna sequence containing only characters of A, C, G, T\n",
      "stdin> gattaca\n"
     ]
    },
    {
     "data": {
      "text/plain": [
       "1"
      ]
     },
     "execution_count": 53,
     "metadata": {},
     "output_type": "execute_result"
    }
   ],
   "source": [
    "println(\"Please input a dna sequence containing only characters of A, C, G, T\")\n",
    "# The input is case insensitive\n",
    "dna_string = lowercase(readline())\n",
    "len_string = length(dna_string)\n",
    "g_count = 0\n",
    "a_count = 0\n",
    "c_count = 0\n",
    "t_count = 0 \n",
    "x = 1"
   ]
  },
  {
   "cell_type": "code",
   "execution_count": 54,
   "metadata": {},
   "outputs": [],
   "source": [
    "# Loop each character in the input to check for validity\n",
    "# Count how many G,C,A,T are provided in the sequence\n",
    "while x <= len_string\n",
    "    global msg = \"true\"\n",
    "    if dna_string[x] == 'g'\n",
    "        global g_count += 1\n",
    "        global x += 1\n",
    "    elseif dna_string[x] == 'a'\n",
    "        global a_count += 1\n",
    "        global x += 1\n",
    "    elseif dna_string[x] == 'c'\n",
    "        global c_count += 1\n",
    "        global x += 1\n",
    "    elseif dna_string[x] == 't'\n",
    "        global t_count += 1\n",
    "        global x += 1\n",
    "    else\n",
    "        println(\"Invalid input: please only input a sequence containing A, C, G, T\")\n",
    "        global msg = \"false\"\n",
    "        break\n",
    "    end\n",
    "        \n",
    "end"
   ]
  },
  {
   "cell_type": "code",
   "execution_count": 55,
   "metadata": {},
   "outputs": [
    {
     "name": "stdout",
     "output_type": "stream",
     "text": [
      "G : 1 A : 3 C : 1 T : 2\n"
     ]
    }
   ],
   "source": [
    "# If all the characters in the sequence are valid, print out the result\n",
    "if msg == \"true\"\n",
    "    println(\"G : \", g_count, \" A : \", a_count, \" C : \", c_count, \" T : \", t_count)\n",
    "end"
   ]
  },
  {
   "cell_type": "markdown",
   "metadata": {},
   "source": [
    "## Section 5: Plots\n",
    "### This section looks at how to plot simple graph through using Julia"
   ]
  },
  {
   "cell_type": "code",
   "execution_count": 12,
   "metadata": {},
   "outputs": [],
   "source": [
    "import Pkg"
   ]
  },
  {
   "cell_type": "code",
   "execution_count": 13,
   "metadata": {},
   "outputs": [
    {
     "name": "stderr",
     "output_type": "stream",
     "text": [
      "\u001b[32m\u001b[1m    Updating\u001b[22m\u001b[39m registry at `C:\\Users\\86865\\.julia\\registries\\General`\n",
      "\u001b[32m\u001b[1m    Updating\u001b[22m\u001b[39m git-repo `https://github.com/JuliaRegistries/General.git`\n",
      "\u001b[32m\u001b[1m   Resolving\u001b[22m\u001b[39m package versions...\n",
      "\u001b[32m\u001b[1m  No Changes\u001b[22m\u001b[39m to `C:\\Users\\86865\\.julia\\environments\\v1.6\\Project.toml`\n",
      "\u001b[32m\u001b[1m  No Changes\u001b[22m\u001b[39m to `C:\\Users\\86865\\.julia\\environments\\v1.6\\Manifest.toml`\n"
     ]
    }
   ],
   "source": [
    "Pkg.add(\"Plots\")"
   ]
  },
  {
   "cell_type": "code",
   "execution_count": 21,
   "metadata": {},
   "outputs": [],
   "source": [
    "using Plots"
   ]
  },
  {
   "cell_type": "code",
   "execution_count": 39,
   "metadata": {},
   "outputs": [
    {
     "data": {
      "application/vnd.plotly.v1+json": {
       "data": [
        {
         "colorbar": {
          "title": ""
         },
         "legendgroup": "Line 1",
         "line": {
          "color": "rgba(0, 154, 250, 1.000)",
          "dash": "solid",
          "shape": "linear",
          "width": 1
         },
         "mode": "lines",
         "name": "Line 1",
         "showlegend": true,
         "type": "scatter",
         "x": [
          1,
          2,
          3,
          4,
          5,
          6,
          7,
          8,
          9,
          10,
          11,
          12,
          13,
          14,
          15
         ],
         "xaxis": "x",
         "y": [
          0.5054578685361732,
          0.05960792209480292,
          0.05195096741535199,
          0.8435862760220227,
          0.7861961969983877,
          0.3756870586813055,
          0.4535639535179934,
          0.3247221186697149,
          0.005466088795600621,
          0.6050108207292655,
          0.23232648787186516,
          0.4925570786497371,
          0.8332523584575662,
          0.2389095113933326,
          0.5128200493643824
         ],
         "yaxis": "y",
         "zmax": null,
         "zmin": null
        },
        {
         "colorbar": {
          "title": ""
         },
         "legendgroup": "Line 2",
         "line": {
          "color": "rgba(227, 111, 71, 1.000)",
          "dash": "solid",
          "shape": "linear",
          "width": 1
         },
         "mode": "lines",
         "name": "Line 2",
         "showlegend": true,
         "type": "scatter",
         "x": [
          1,
          2,
          3,
          4,
          5,
          6,
          7,
          8,
          9,
          10,
          11,
          12,
          13,
          14,
          15
         ],
         "xaxis": "x",
         "y": [
          0.5994226670836789,
          0.19574617136661132,
          0.1687775837375729,
          0.6072860797260429,
          0.23436506495402765,
          0.6034777906819442,
          0.3991339684895936,
          0.4318620707677834,
          0.13413684538983728,
          0.5246443814269084,
          0.19121420908304998,
          0.2248771086918515,
          0.568207665891868,
          0.5605474160126351,
          0.3090768500154448
         ],
         "yaxis": "y",
         "zmax": null,
         "zmin": null
        }
       ],
       "layout": {
        "annotations": [
         {
          "font": {
           "color": "rgba(0, 0, 0, 1.000)",
           "family": "sans-serif",
           "size": 20
          },
          "rotation": 0,
          "showarrow": false,
          "text": "Comparison of two graphs",
          "x": 0.5222222222222223,
          "xanchor": "center",
          "xref": "paper",
          "y": 1,
          "yanchor": "top",
          "yref": "paper"
         }
        ],
        "height": 400,
        "legend": {
         "bgcolor": "rgba(255, 255, 255, 1.000)",
         "bordercolor": "rgba(0, 0, 0, 1.000)",
         "borderwidth": 1,
         "font": {
          "color": "rgba(0, 0, 0, 1.000)",
          "family": "sans-serif",
          "size": 11
         },
         "title": {
          "font": {
           "color": "rgba(0, 0, 0, 1.000)",
           "family": "sans-serif",
           "size": 15
          },
          "text": ""
         },
         "tracegroupgap": 0,
         "traceorder": "normal",
         "x": 1,
         "xanchor": "auto",
         "y": 1,
         "yanchor": "auto"
        },
        "margin": {
         "b": 20,
         "l": 0,
         "r": 0,
         "t": 20
        },
        "paper_bgcolor": "rgba(255, 255, 255, 1.000)",
        "plot_bgcolor": "rgba(255, 255, 255, 1.000)",
        "showlegend": true,
        "width": 600,
        "xaxis": {
         "anchor": "y",
         "domain": [
          0.05100612423447069,
          0.9934383202099737
         ],
         "gridcolor": "rgba(0, 0, 0, 0.100)",
         "gridwidth": 0.5,
         "linecolor": "rgba(0, 0, 0, 1.000)",
         "mirror": false,
         "range": [
          0.5800000000000001,
          15.42
         ],
         "showgrid": true,
         "showline": true,
         "showticklabels": true,
         "tickangle": 0,
         "tickcolor": "rgb(0, 0, 0)",
         "tickfont": {
          "color": "rgba(0, 0, 0, 1.000)",
          "family": "sans-serif",
          "size": 11
         },
         "tickmode": "array",
         "ticks": "inside",
         "ticktext": [
          "2",
          "4",
          "6",
          "8",
          "10",
          "12",
          "14"
         ],
         "tickvals": [
          2,
          4,
          6,
          8,
          10,
          12,
          14
         ],
         "title": "",
         "titlefont": {
          "color": "rgba(0, 0, 0, 1.000)",
          "family": "sans-serif",
          "size": 15
         },
         "type": "-",
         "visible": true,
         "zeroline": false,
         "zerolinecolor": "rgba(0, 0, 0, 1.000)"
        },
        "yaxis": {
         "anchor": "x",
         "domain": [
          0.03762029746281716,
          0.9415463692038496
         ],
         "gridcolor": "rgba(0, 0, 0, 0.100)",
         "gridwidth": 0.5,
         "linecolor": "rgba(0, 0, 0, 1.000)",
         "mirror": false,
         "range": [
          -0.01967751682119204,
          0.8687298816388154
         ],
         "showgrid": true,
         "showline": true,
         "showticklabels": true,
         "tickangle": 0,
         "tickcolor": "rgb(0, 0, 0)",
         "tickfont": {
          "color": "rgba(0, 0, 0, 1.000)",
          "family": "sans-serif",
          "size": 11
         },
         "tickmode": "array",
         "ticks": "inside",
         "ticktext": [
          "0.0",
          "0.2",
          "0.4",
          "0.6",
          "0.8"
         ],
         "tickvals": [
          0,
          0.2,
          0.4,
          0.6000000000000001,
          0.8
         ],
         "title": "",
         "titlefont": {
          "color": "rgba(0, 0, 0, 1.000)",
          "family": "sans-serif",
          "size": 15
         },
         "type": "-",
         "visible": true,
         "zeroline": false,
         "zerolinecolor": "rgba(0, 0, 0, 1.000)"
        }
       }
      },
      "text/html": [
       "<!DOCTYPE html>\n",
       "<html>\n",
       "    <head>\n",
       "        <title>Plots.jl</title>\n",
       "        <meta http-equiv=\"content-type\" content=\"text/html; charset=UTF-8\">\n",
       "        \n",
       "    </head>\n",
       "    <body>\n",
       "            <div id=\"fd924c38-8582-469b-bf47-75fcef1261d8\" style=\"width:600px;height:400px;\"></div>\n",
       "    <script>\n",
       "        requirejs.config({\n",
       "        paths: {\n",
       "            Plotly: 'https://cdn.plot.ly/plotly-1.57.1.min'\n",
       "        }\n",
       "    });\n",
       "    require(['Plotly'], function (Plotly) {\n",
       "\n",
       "    PLOT = document.getElementById('fd924c38-8582-469b-bf47-75fcef1261d8');\n",
       "    Plotly.plot(PLOT, [\n",
       "    {\n",
       "        \"xaxis\": \"x\",\n",
       "        \"colorbar\": {\n",
       "            \"title\": \"\"\n",
       "        },\n",
       "        \"yaxis\": \"y\",\n",
       "        \"x\": [\n",
       "            1,\n",
       "            2,\n",
       "            3,\n",
       "            4,\n",
       "            5,\n",
       "            6,\n",
       "            7,\n",
       "            8,\n",
       "            9,\n",
       "            10,\n",
       "            11,\n",
       "            12,\n",
       "            13,\n",
       "            14,\n",
       "            15\n",
       "        ],\n",
       "        \"showlegend\": true,\n",
       "        \"mode\": \"lines\",\n",
       "        \"name\": \"Line 1\",\n",
       "        \"zmin\": null,\n",
       "        \"legendgroup\": \"Line 1\",\n",
       "        \"zmax\": null,\n",
       "        \"line\": {\n",
       "            \"color\": \"rgba(0, 154, 250, 1.000)\",\n",
       "            \"shape\": \"linear\",\n",
       "            \"dash\": \"solid\",\n",
       "            \"width\": 1\n",
       "        },\n",
       "        \"y\": [\n",
       "            0.5054578685361732,\n",
       "            0.05960792209480292,\n",
       "            0.05195096741535199,\n",
       "            0.8435862760220227,\n",
       "            0.7861961969983877,\n",
       "            0.3756870586813055,\n",
       "            0.4535639535179934,\n",
       "            0.3247221186697149,\n",
       "            0.005466088795600621,\n",
       "            0.6050108207292655,\n",
       "            0.23232648787186516,\n",
       "            0.4925570786497371,\n",
       "            0.8332523584575662,\n",
       "            0.2389095113933326,\n",
       "            0.5128200493643824\n",
       "        ],\n",
       "        \"type\": \"scatter\"\n",
       "    },\n",
       "    {\n",
       "        \"xaxis\": \"x\",\n",
       "        \"colorbar\": {\n",
       "            \"title\": \"\"\n",
       "        },\n",
       "        \"yaxis\": \"y\",\n",
       "        \"x\": [\n",
       "            1,\n",
       "            2,\n",
       "            3,\n",
       "            4,\n",
       "            5,\n",
       "            6,\n",
       "            7,\n",
       "            8,\n",
       "            9,\n",
       "            10,\n",
       "            11,\n",
       "            12,\n",
       "            13,\n",
       "            14,\n",
       "            15\n",
       "        ],\n",
       "        \"showlegend\": true,\n",
       "        \"mode\": \"lines\",\n",
       "        \"name\": \"Line 2\",\n",
       "        \"zmin\": null,\n",
       "        \"legendgroup\": \"Line 2\",\n",
       "        \"zmax\": null,\n",
       "        \"line\": {\n",
       "            \"color\": \"rgba(227, 111, 71, 1.000)\",\n",
       "            \"shape\": \"linear\",\n",
       "            \"dash\": \"solid\",\n",
       "            \"width\": 1\n",
       "        },\n",
       "        \"y\": [\n",
       "            0.5994226670836789,\n",
       "            0.19574617136661132,\n",
       "            0.1687775837375729,\n",
       "            0.6072860797260429,\n",
       "            0.23436506495402765,\n",
       "            0.6034777906819442,\n",
       "            0.3991339684895936,\n",
       "            0.4318620707677834,\n",
       "            0.13413684538983728,\n",
       "            0.5246443814269084,\n",
       "            0.19121420908304998,\n",
       "            0.2248771086918515,\n",
       "            0.568207665891868,\n",
       "            0.5605474160126351,\n",
       "            0.3090768500154448\n",
       "        ],\n",
       "        \"type\": \"scatter\"\n",
       "    }\n",
       "]\n",
       ", {\n",
       "    \"showlegend\": true,\n",
       "    \"xaxis\": {\n",
       "        \"showticklabels\": true,\n",
       "        \"gridwidth\": 0.5,\n",
       "        \"tickvals\": [\n",
       "            2.0,\n",
       "            4.0,\n",
       "            6.0,\n",
       "            8.0,\n",
       "            10.0,\n",
       "            12.0,\n",
       "            14.0\n",
       "        ],\n",
       "        \"range\": [\n",
       "            0.5800000000000001,\n",
       "            15.42\n",
       "        ],\n",
       "        \"domain\": [\n",
       "            0.05100612423447069,\n",
       "            0.9934383202099737\n",
       "        ],\n",
       "        \"mirror\": false,\n",
       "        \"tickangle\": 0,\n",
       "        \"showline\": true,\n",
       "        \"ticktext\": [\n",
       "            \"2\",\n",
       "            \"4\",\n",
       "            \"6\",\n",
       "            \"8\",\n",
       "            \"10\",\n",
       "            \"12\",\n",
       "            \"14\"\n",
       "        ],\n",
       "        \"zeroline\": false,\n",
       "        \"tickfont\": {\n",
       "            \"color\": \"rgba(0, 0, 0, 1.000)\",\n",
       "            \"family\": \"sans-serif\",\n",
       "            \"size\": 11\n",
       "        },\n",
       "        \"zerolinecolor\": \"rgba(0, 0, 0, 1.000)\",\n",
       "        \"anchor\": \"y\",\n",
       "        \"visible\": true,\n",
       "        \"ticks\": \"inside\",\n",
       "        \"tickmode\": \"array\",\n",
       "        \"linecolor\": \"rgba(0, 0, 0, 1.000)\",\n",
       "        \"showgrid\": true,\n",
       "        \"title\": \"\",\n",
       "        \"gridcolor\": \"rgba(0, 0, 0, 0.100)\",\n",
       "        \"titlefont\": {\n",
       "            \"color\": \"rgba(0, 0, 0, 1.000)\",\n",
       "            \"family\": \"sans-serif\",\n",
       "            \"size\": 15\n",
       "        },\n",
       "        \"tickcolor\": \"rgb(0, 0, 0)\",\n",
       "        \"type\": \"-\"\n",
       "    },\n",
       "    \"paper_bgcolor\": \"rgba(255, 255, 255, 1.000)\",\n",
       "    \"annotations\": [\n",
       "        {\n",
       "            \"yanchor\": \"top\",\n",
       "            \"xanchor\": \"center\",\n",
       "            \"rotation\": -0.0,\n",
       "            \"y\": 1.0,\n",
       "            \"font\": {\n",
       "                \"color\": \"rgba(0, 0, 0, 1.000)\",\n",
       "                \"family\": \"sans-serif\",\n",
       "                \"size\": 20\n",
       "            },\n",
       "            \"yref\": \"paper\",\n",
       "            \"showarrow\": false,\n",
       "            \"text\": \"Comparison of two graphs\",\n",
       "            \"xref\": \"paper\",\n",
       "            \"x\": 0.5222222222222223\n",
       "        }\n",
       "    ],\n",
       "    \"height\": 400,\n",
       "    \"margin\": {\n",
       "        \"l\": 0,\n",
       "        \"b\": 20,\n",
       "        \"r\": 0,\n",
       "        \"t\": 20\n",
       "    },\n",
       "    \"plot_bgcolor\": \"rgba(255, 255, 255, 1.000)\",\n",
       "    \"yaxis\": {\n",
       "        \"showticklabels\": true,\n",
       "        \"gridwidth\": 0.5,\n",
       "        \"tickvals\": [\n",
       "            0.0,\n",
       "            0.2,\n",
       "            0.4,\n",
       "            0.6000000000000001,\n",
       "            0.8\n",
       "        ],\n",
       "        \"range\": [\n",
       "            -0.01967751682119204,\n",
       "            0.8687298816388154\n",
       "        ],\n",
       "        \"domain\": [\n",
       "            0.03762029746281716,\n",
       "            0.9415463692038496\n",
       "        ],\n",
       "        \"mirror\": false,\n",
       "        \"tickangle\": 0,\n",
       "        \"showline\": true,\n",
       "        \"ticktext\": [\n",
       "            \"0.0\",\n",
       "            \"0.2\",\n",
       "            \"0.4\",\n",
       "            \"0.6\",\n",
       "            \"0.8\"\n",
       "        ],\n",
       "        \"zeroline\": false,\n",
       "        \"tickfont\": {\n",
       "            \"color\": \"rgba(0, 0, 0, 1.000)\",\n",
       "            \"family\": \"sans-serif\",\n",
       "            \"size\": 11\n",
       "        },\n",
       "        \"zerolinecolor\": \"rgba(0, 0, 0, 1.000)\",\n",
       "        \"anchor\": \"x\",\n",
       "        \"visible\": true,\n",
       "        \"ticks\": \"inside\",\n",
       "        \"tickmode\": \"array\",\n",
       "        \"linecolor\": \"rgba(0, 0, 0, 1.000)\",\n",
       "        \"showgrid\": true,\n",
       "        \"title\": \"\",\n",
       "        \"gridcolor\": \"rgba(0, 0, 0, 0.100)\",\n",
       "        \"titlefont\": {\n",
       "            \"color\": \"rgba(0, 0, 0, 1.000)\",\n",
       "            \"family\": \"sans-serif\",\n",
       "            \"size\": 15\n",
       "        },\n",
       "        \"tickcolor\": \"rgb(0, 0, 0)\",\n",
       "        \"type\": \"-\"\n",
       "    },\n",
       "    \"legend\": {\n",
       "        \"yanchor\": \"auto\",\n",
       "        \"xanchor\": \"auto\",\n",
       "        \"bordercolor\": \"rgba(0, 0, 0, 1.000)\",\n",
       "        \"bgcolor\": \"rgba(255, 255, 255, 1.000)\",\n",
       "        \"borderwidth\": 1,\n",
       "        \"tracegroupgap\": 0,\n",
       "        \"y\": 1.0,\n",
       "        \"font\": {\n",
       "            \"color\": \"rgba(0, 0, 0, 1.000)\",\n",
       "            \"family\": \"sans-serif\",\n",
       "            \"size\": 11\n",
       "        },\n",
       "        \"title\": {\n",
       "            \"font\": {\n",
       "                \"color\": \"rgba(0, 0, 0, 1.000)\",\n",
       "                \"family\": \"sans-serif\",\n",
       "                \"size\": 15\n",
       "            },\n",
       "            \"text\": \"\"\n",
       "        },\n",
       "        \"traceorder\": \"normal\",\n",
       "        \"x\": 1.0\n",
       "    },\n",
       "    \"width\": 600\n",
       "}\n",
       ");\n",
       "    });\n",
       "    </script>\n",
       "\n",
       "    </body>\n",
       "</html>\n"
      ]
     },
     "execution_count": 39,
     "metadata": {},
     "output_type": "execute_result"
    }
   ],
   "source": [
    "x = 1:15; y = rand(15,2) \n",
    "plot(x, y, title = \"Comparison of two graphs\", labels = [\"Line 1\" \"Line 2\"])"
   ]
  },
  {
   "cell_type": "markdown",
   "metadata": {},
   "source": [
    "## Section 6: More on Plots\n",
    "### This section looks at how to plot polynomial graphs with labels, titles and coordinates"
   ]
  },
  {
   "cell_type": "code",
   "execution_count": 23,
   "metadata": {},
   "outputs": [],
   "source": [
    "import Pkg"
   ]
  },
  {
   "cell_type": "code",
   "execution_count": 24,
   "metadata": {},
   "outputs": [
    {
     "name": "stderr",
     "output_type": "stream",
     "text": [
      "\u001b[32m\u001b[1m   Resolving\u001b[22m\u001b[39m package versions...\n",
      "\u001b[32m\u001b[1m   Installed\u001b[22m\u001b[39m Kaleido_jll ─────────── v0.1.0+0\n",
      "\u001b[32m\u001b[1m   Installed\u001b[22m\u001b[39m Hiccup ──────────────── v0.2.2\n",
      "\u001b[32m\u001b[1m   Installed\u001b[22m\u001b[39m Widgets ─────────────── v0.6.2\n",
      "\u001b[32m\u001b[1m   Installed\u001b[22m\u001b[39m FunctionalCollections ─ v0.5.0\n",
      "\u001b[32m\u001b[1m   Installed\u001b[22m\u001b[39m Mustache ────────────── v1.0.10\n",
      "\u001b[32m\u001b[1m   Installed\u001b[22m\u001b[39m WebSockets ──────────── v1.5.9\n",
      "\u001b[32m\u001b[1m   Installed\u001b[22m\u001b[39m DocStringExtensions ─── v0.8.4\n",
      "\u001b[32m\u001b[1m   Installed\u001b[22m\u001b[39m AssetRegistry ───────── v0.1.0\n",
      "\u001b[32m\u001b[1m   Installed\u001b[22m\u001b[39m PlotlyJS ────────────── v0.14.1\n",
      "\u001b[32m\u001b[1m   Installed\u001b[22m\u001b[39m PlotlyBase ──────────── v0.5.2\n",
      "\u001b[32m\u001b[1m   Installed\u001b[22m\u001b[39m URIParser ───────────── v0.4.1\n",
      "\u001b[32m\u001b[1m   Installed\u001b[22m\u001b[39m JSExpr ──────────────── v0.5.2\n",
      "\u001b[32m\u001b[1m   Installed\u001b[22m\u001b[39m Pidfile ─────────────── v1.2.0\n",
      "\u001b[32m\u001b[1m   Installed\u001b[22m\u001b[39m Mux ─────────────────── v0.7.5\n",
      "\u001b[32m\u001b[1m   Installed\u001b[22m\u001b[39m BinDeps ─────────────── v1.0.2\n",
      "\u001b[32m\u001b[1m   Installed\u001b[22m\u001b[39m Blink ───────────────── v0.12.5\n",
      "\u001b[32m\u001b[1m   Installed\u001b[22m\u001b[39m Lazy ────────────────── v0.15.1\n",
      "\u001b[32m\u001b[1m   Installed\u001b[22m\u001b[39m Observables ─────────── v0.3.3\n",
      "\u001b[32m\u001b[1m   Installed\u001b[22m\u001b[39m WebIO ───────────────── v0.8.15\n",
      "\u001b[32m\u001b[1m    Updating\u001b[22m\u001b[39m `C:\\Users\\86865\\.julia\\environments\\v1.6\\Project.toml`\n",
      " \u001b[90m [f0f68f2c] \u001b[39m\u001b[92m+ PlotlyJS v0.14.1\u001b[39m\n",
      "\u001b[32m\u001b[1m    Updating\u001b[22m\u001b[39m `C:\\Users\\86865\\.julia\\environments\\v1.6\\Manifest.toml`\n",
      " \u001b[90m [bf4720bc] \u001b[39m\u001b[92m+ AssetRegistry v0.1.0\u001b[39m\n",
      " \u001b[90m [9e28174c] \u001b[39m\u001b[92m+ BinDeps v1.0.2\u001b[39m\n",
      " \u001b[90m [ad839575] \u001b[39m\u001b[92m+ Blink v0.12.5\u001b[39m\n",
      " \u001b[90m [ffbed154] \u001b[39m\u001b[92m+ DocStringExtensions v0.8.4\u001b[39m\n",
      " \u001b[90m [de31a74c] \u001b[39m\u001b[92m+ FunctionalCollections v0.5.0\u001b[39m\n",
      " \u001b[90m [9fb69e20] \u001b[39m\u001b[92m+ Hiccup v0.2.2\u001b[39m\n",
      " \u001b[90m [97c1335a] \u001b[39m\u001b[92m+ JSExpr v0.5.2\u001b[39m\n",
      " \u001b[90m [50d2b5c4] \u001b[39m\u001b[92m+ Lazy v0.15.1\u001b[39m\n",
      " \u001b[90m [ffc61752] \u001b[39m\u001b[92m+ Mustache v1.0.10\u001b[39m\n",
      " \u001b[90m [a975b10e] \u001b[39m\u001b[92m+ Mux v0.7.5\u001b[39m\n",
      " \u001b[90m [510215fc] \u001b[39m\u001b[92m+ Observables v0.3.3\u001b[39m\n",
      " \u001b[90m [fa939f87] \u001b[39m\u001b[92m+ Pidfile v1.2.0\u001b[39m\n",
      " \u001b[90m [a03496cd] \u001b[39m\u001b[92m+ PlotlyBase v0.5.2\u001b[39m\n",
      " \u001b[90m [f0f68f2c] \u001b[39m\u001b[92m+ PlotlyJS v0.14.1\u001b[39m\n",
      " \u001b[90m [30578b45] \u001b[39m\u001b[92m+ URIParser v0.4.1\u001b[39m\n",
      " \u001b[90m [0f1e0344] \u001b[39m\u001b[92m+ WebIO v0.8.15\u001b[39m\n",
      " \u001b[90m [104b5d7c] \u001b[39m\u001b[92m+ WebSockets v1.5.9\u001b[39m\n",
      " \u001b[90m [cc8bc4a8] \u001b[39m\u001b[92m+ Widgets v0.6.2\u001b[39m\n",
      " \u001b[90m [f7e6163d] \u001b[39m\u001b[92m+ Kaleido_jll v0.1.0+0\u001b[39m\n",
      "\u001b[32m\u001b[1m    Building\u001b[22m\u001b[39m WebIO ───→ `C:\\Users\\86865\\.julia\\scratchspaces\\44cfe95a-1eb2-52ea-b672-e2afdf69b78f\\adc25e225bc334c7df6eec3b39496edfc451cc38\\build.log`\n",
      "\u001b[32m\u001b[1m    Building\u001b[22m\u001b[39m Blink ───→ `C:\\Users\\86865\\.julia\\scratchspaces\\44cfe95a-1eb2-52ea-b672-e2afdf69b78f\\08d0b679fd7caa49e2bca9214b131289e19808c0\\build.log`\n",
      "\u001b[32m\u001b[1m    Building\u001b[22m\u001b[39m PlotlyJS → `C:\\Users\\86865\\.julia\\scratchspaces\\44cfe95a-1eb2-52ea-b672-e2afdf69b78f\\b859551864853bb2c317d0937e94bd19d749396b\\build.log`\n",
      "\u001b[32m\u001b[1mPrecompiling\u001b[22m\u001b[39m project...\n",
      "\u001b[32m  ✓ \u001b[39m\u001b[90mObservables\u001b[39m\n",
      "\u001b[32m  ✓ \u001b[39m\u001b[90mDocStringExtensions\u001b[39m\n",
      "\u001b[32m  ✓ \u001b[39m\u001b[90mFunctionalCollections\u001b[39m\n",
      "\u001b[32m  ✓ \u001b[39m\u001b[90mPidfile\u001b[39m\n",
      "\u001b[32m  ✓ \u001b[39m\u001b[90mKaleido_jll\u001b[39m\n",
      "\u001b[32m  ✓ \u001b[39m\u001b[90mHiccup\u001b[39m\n",
      "\u001b[32m  ✓ \u001b[39m\u001b[90mMustache\u001b[39m\n",
      "\u001b[32m  ✓ \u001b[39m\u001b[90mWebSockets\u001b[39m\n",
      "\u001b[32m  ✓ \u001b[39m\u001b[90mLazy\u001b[39m\n",
      "\u001b[32m  ✓ \u001b[39m\u001b[90mAssetRegistry\u001b[39m\n",
      "\u001b[32m  ✓ \u001b[39m\u001b[90mWidgets\u001b[39m\n",
      "\u001b[32m  ✓ \u001b[39m\u001b[90mPlotlyBase\u001b[39m\n",
      "\u001b[32m  ✓ \u001b[39m\u001b[90mMux\u001b[39m\n",
      "\u001b[32m  ✓ \u001b[39m\u001b[90mWebIO\u001b[39m\n",
      "\u001b[32m  ✓ \u001b[39m\u001b[90mJSExpr\u001b[39m\n",
      "\u001b[32m  ✓ \u001b[39m\u001b[90mBlink\u001b[39m\n",
      "\u001b[32m  ✓ \u001b[39mPlotlyJS\n",
      "17 dependencies successfully precompiled in 67 seconds (122 already precompiled)\n"
     ]
    }
   ],
   "source": [
    "Pkg.add(\"PlotlyJS\")"
   ]
  },
  {
   "cell_type": "code",
   "execution_count": 25,
   "metadata": {},
   "outputs": [],
   "source": [
    "using Plots"
   ]
  },
  {
   "cell_type": "code",
   "execution_count": 26,
   "metadata": {},
   "outputs": [
    {
     "data": {
      "text/plain": [
       "-30:1:30"
      ]
     },
     "execution_count": 26,
     "metadata": {},
     "output_type": "execute_result"
    }
   ],
   "source": [
    "x=-30:1:30"
   ]
  },
  {
   "cell_type": "code",
   "execution_count": 27,
   "metadata": {},
   "outputs": [
    {
     "data": {
      "text/plain": [
       "f (generic function with 1 method)"
      ]
     },
     "execution_count": 27,
     "metadata": {},
     "output_type": "execute_result"
    }
   ],
   "source": [
    "f(x)=(x+7)^2-10"
   ]
  },
  {
   "cell_type": "code",
   "execution_count": 28,
   "metadata": {},
   "outputs": [
    {
     "data": {
      "text/plain": [
       "61-element Vector{Int64}:\n",
       "  519\n",
       "  474\n",
       "  431\n",
       "  390\n",
       "  351\n",
       "  314\n",
       "  279\n",
       "  246\n",
       "  215\n",
       "  186\n",
       "  159\n",
       "  134\n",
       "  111\n",
       "    ⋮\n",
       "  666\n",
       "  719\n",
       "  774\n",
       "  831\n",
       "  890\n",
       "  951\n",
       " 1014\n",
       " 1079\n",
       " 1146\n",
       " 1215\n",
       " 1286\n",
       " 1359"
      ]
     },
     "execution_count": 28,
     "metadata": {},
     "output_type": "execute_result"
    }
   ],
   "source": [
    "y=f.(x)"
   ]
  },
  {
   "cell_type": "code",
   "execution_count": 29,
   "metadata": {},
   "outputs": [
    {
     "data": {
      "text/plain": [
       "Plots.GRBackend()"
      ]
     },
     "execution_count": 29,
     "metadata": {},
     "output_type": "execute_result"
    }
   ],
   "source": [
    "gr()"
   ]
  },
  {
   "cell_type": "code",
   "execution_count": 30,
   "metadata": {},
   "outputs": [
    {
     "data": {
      "text/html": [
       "<script>\n",
       "// Immediately-invoked-function-expression to avoid global variables.\n",
       "(function() {\n",
       "    var warning_div = document.getElementById(\"webio-warning-16170847498757197019\");\n",
       "    var hide = function () {\n",
       "        var script = document.getElementById(\"webio-setup-3251045914133190437\");\n",
       "        var parent = script && script.parentElement;\n",
       "        var grandparent = parent && parent.parentElement;\n",
       "        if (grandparent) {\n",
       "            grandparent.style.display = \"none\";\n",
       "        }\n",
       "        warning_div.style.display = \"none\";\n",
       "    };\n",
       "    if (typeof Jupyter !== \"undefined\") {\n",
       "        console.log(\"WebIO detected Jupyter notebook environment.\");\n",
       "        // Jupyter notebook.\n",
       "        var extensions = (\n",
       "            Jupyter\n",
       "            && Jupyter.notebook.config.data\n",
       "            && Jupyter.notebook.config.data.load_extensions\n",
       "        );\n",
       "        if (extensions && extensions[\"webio-jupyter-notebook\"]) {\n",
       "            // Extension already loaded.\n",
       "            console.log(\"Jupyter WebIO nbextension detected; not loading ad-hoc.\");\n",
       "            hide();\n",
       "            return;\n",
       "        }\n",
       "    } else if (window.location.pathname.includes(\"/lab\")) {\n",
       "        // Guessing JupyterLa\n",
       "        console.log(\"Jupyter Lab detected; make sure the @webio/jupyter-lab-provider labextension is installed.\");\n",
       "        hide();\n",
       "        return;\n",
       "    }\n",
       "})();\n",
       "\n",
       "</script>\n",
       "<p\n",
       "    id=\"webio-warning-16170847498757197019\"\n",
       "    class=\"output_text output_stderr\"\n",
       "    style=\"padding: 1em; font-weight: bold;\"\n",
       ">\n",
       "    Unable to load WebIO. Please make sure WebIO works for your Jupyter client.\n",
       "    For troubleshooting, please see <a href=\"https://juliagizmos.github.io/WebIO.jl/latest/providers/ijulia/\">\n",
       "    the WebIO/IJulia documentation</a>.\n",
       "    <!-- TODO: link to installation docs. -->\n",
       "</p>\n"
      ],
      "text/plain": [
       "HTML{String}(\"<script>\\n// Immediately-invoked-function-expression to avoid global variables.\\n(function() {\\n    var warning_div = document.getElementById(\\\"webio-warning-16170847498757197019\\\");\\n    var hide = function () {\\n        var script = document.getElementById(\\\"webio-setup-3251045914133190437\\\");\\n        var parent = script && script.parentElement;\\n        var grandparent = parent && parent.parentElement;\\n        if (grandparent) {\\n            grandparent.style.display = \\\"none\\\";\\n        }\\n        warning_div.style.display = \\\"none\\\";\\n    };\\n    if (typeof Jupyter !== \\\"undefined\\\") {\\n        console.log(\\\"WebIO detected Jupyter notebook environment.\\\");\\n        // Jupyter notebook.\\n        var extensions = (\\n            Jupyter\\n            && Jupyter.notebook.config.data\\n            && Jupyter.notebook.config.data.load_extensions\\n        );\\n        if (extensions && extensions[\\\"webio-jupyter-notebook\\\"]) {\\n            // Extension already loaded.\\n            console.log(\\\"Jupyter WebIO nbextension detected; not loading ad-hoc.\\\");\\n            hide();\\n            return;\\n        }\\n    } else if (window.location.pathname.includes(\\\"/lab\\\")) {\\n        // Guessing JupyterLa\\n        console.log(\\\"Jupyter Lab detected; make sure the @webio/jupyter-lab-provider labextension is installed.\\\");\\n        hide();\\n        return;\\n    }\\n})();\\n\\n</script>\\n<p\\n    id=\\\"webio-warning-16170847498757197019\\\"\\n    class=\\\"output_text output_stderr\\\"\\n    style=\\\"padding: 1em; font-weight: bold;\\\"\\n>\\n    Unable to load WebIO. Please make sure WebIO works for your Jupyter client.\\n    For troubleshooting, please see <a href=\\\"https://juliagizmos.github.io/WebIO.jl/latest/providers/ijulia/\\\">\\n    the WebIO/IJulia documentation</a>.\\n    <!-- TODO: link to installation docs. -->\\n</p>\\n\")"
      ]
     },
     "metadata": {},
     "output_type": "display_data"
    },
    {
     "data": {
      "text/plain": [
       "Plots.PlotlyJSBackend()"
      ]
     },
     "execution_count": 30,
     "metadata": {},
     "output_type": "execute_result"
    }
   ],
   "source": [
    "plotlyjs()"
   ]
  },
  {
   "cell_type": "code",
   "execution_count": 31,
   "metadata": {},
   "outputs": [
    {
     "data": {
      "application/vnd.plotly.v1+json": {
       "data": [
        {
         "colorbar": {
          "title": ""
         },
         "legendgroup": "Parabola",
         "line": {
          "color": "rgba(0, 154, 250, 1.000)",
          "dash": "solid",
          "shape": "linear",
          "width": 1
         },
         "mode": "lines",
         "name": "Parabola",
         "showlegend": true,
         "type": "scatter",
         "x": [
          -30,
          -29,
          -28,
          -27,
          -26,
          -25,
          -24,
          -23,
          -22,
          -21,
          -20,
          -19,
          -18,
          -17,
          -16,
          -15,
          -14,
          -13,
          -12,
          -11,
          -10,
          -9,
          -8,
          -7,
          -6,
          -5,
          -4,
          -3,
          -2,
          -1,
          0,
          1,
          2,
          3,
          4,
          5,
          6,
          7,
          8,
          9,
          10,
          11,
          12,
          13,
          14,
          15,
          16,
          17,
          18,
          19,
          20,
          21,
          22,
          23,
          24,
          25,
          26,
          27,
          28,
          29,
          30
         ],
         "xaxis": "x",
         "y": [
          519,
          474,
          431,
          390,
          351,
          314,
          279,
          246,
          215,
          186,
          159,
          134,
          111,
          90,
          71,
          54,
          39,
          26,
          15,
          6,
          -1,
          -6,
          -9,
          -10,
          -9,
          -6,
          -1,
          6,
          15,
          26,
          39,
          54,
          71,
          90,
          111,
          134,
          159,
          186,
          215,
          246,
          279,
          314,
          351,
          390,
          431,
          474,
          519,
          566,
          615,
          666,
          719,
          774,
          831,
          890,
          951,
          1014,
          1079,
          1146,
          1215,
          1286,
          1359
         ],
         "yaxis": "y",
         "zmax": null,
         "zmin": null
        },
        {
         "colorbar": {
          "title": ""
         },
         "legendgroup": "Points",
         "marker": {
          "color": "rgba(227, 111, 71, 1.000)",
          "line": {
           "color": "rgba(0, 0, 0, 1.000)",
           "width": 1
          },
          "size": 8,
          "symbol": "circle"
         },
         "mode": "markers",
         "name": "Points",
         "showlegend": true,
         "type": "scatter",
         "x": [
          -30,
          -29,
          -28,
          -27,
          -26,
          -25,
          -24,
          -23,
          -22,
          -21,
          -20,
          -19,
          -18,
          -17,
          -16,
          -15,
          -14,
          -13,
          -12,
          -11,
          -10,
          -9,
          -8,
          -7,
          -6,
          -5,
          -4,
          -3,
          -2,
          -1,
          0,
          1,
          2,
          3,
          4,
          5,
          6,
          7,
          8,
          9,
          10,
          11,
          12,
          13,
          14,
          15,
          16,
          17,
          18,
          19,
          20,
          21,
          22,
          23,
          24,
          25,
          26,
          27,
          28,
          29,
          30
         ],
         "xaxis": "x",
         "y": [
          519,
          474,
          431,
          390,
          351,
          314,
          279,
          246,
          215,
          186,
          159,
          134,
          111,
          90,
          71,
          54,
          39,
          26,
          15,
          6,
          -1,
          -6,
          -9,
          -10,
          -9,
          -6,
          -1,
          6,
          15,
          26,
          39,
          54,
          71,
          90,
          111,
          134,
          159,
          186,
          215,
          246,
          279,
          314,
          351,
          390,
          431,
          474,
          519,
          566,
          615,
          666,
          719,
          774,
          831,
          890,
          951,
          1014,
          1079,
          1146,
          1215,
          1286,
          1359
         ],
         "yaxis": "y",
         "zmax": null,
         "zmin": null
        }
       ],
       "layout": {
        "annotations": [
         {
          "font": {
           "color": "rgba(0, 0, 0, 1.000)",
           "family": "sans-serif",
           "size": 20
          },
          "rotation": 0,
          "showarrow": false,
          "text": "Transformation of parabola",
          "x": 0.5423611111111111,
          "xanchor": "center",
          "xref": "paper",
          "y": 1,
          "yanchor": "top",
          "yref": "paper"
         }
        ],
        "height": 400,
        "legend": {
         "bgcolor": "rgba(255, 255, 255, 1.000)",
         "bordercolor": "rgba(0, 0, 0, 1.000)",
         "borderwidth": 1,
         "font": {
          "color": "rgba(0, 0, 0, 1.000)",
          "family": "sans-serif",
          "size": 11
         },
         "title": {
          "font": {
           "color": "rgba(0, 0, 0, 1.000)",
           "family": "sans-serif",
           "size": 15
          },
          "text": ""
         },
         "tracegroupgap": 0,
         "traceorder": "normal",
         "x": 1,
         "xanchor": "auto",
         "y": 1,
         "yanchor": "auto"
        },
        "margin": {
         "b": 20,
         "l": 0,
         "r": 0,
         "t": 20
        },
        "paper_bgcolor": "rgba(255, 255, 255, 1.000)",
        "plot_bgcolor": "rgba(255, 255, 255, 1.000)",
        "showlegend": true,
        "width": 600,
        "xaxis": {
         "anchor": "y",
         "domain": [
          0.09128390201224845,
          0.9934383202099738
         ],
         "gridcolor": "rgba(0, 0, 0, 0.100)",
         "gridwidth": 0.5,
         "linecolor": "rgba(0, 0, 0, 1.000)",
         "mirror": false,
         "range": [
          -31.8,
          31.8
         ],
         "showgrid": true,
         "showline": true,
         "showticklabels": true,
         "tickangle": 0,
         "tickcolor": "rgb(0, 0, 0)",
         "tickfont": {
          "color": "rgba(0, 0, 0, 1.000)",
          "family": "sans-serif",
          "size": 11
         },
         "tickmode": "array",
         "ticks": "inside",
         "ticktext": [
          "-30",
          "-20",
          "-10",
          "0",
          "10",
          "20",
          "30"
         ],
         "tickvals": [
          -30,
          -20,
          -10,
          0,
          10,
          20,
          30
         ],
         "title": "x-axis",
         "titlefont": {
          "color": "rgba(0, 0, 0, 1.000)",
          "family": "sans-serif",
          "size": 15
         },
         "type": "-",
         "visible": true,
         "zeroline": false,
         "zerolinecolor": "rgba(0, 0, 0, 1.000)"
        },
        "yaxis": {
         "anchor": "x",
         "domain": [
          0.07581474190726165,
          0.9415463692038496
         ],
         "gridcolor": "rgba(0, 0, 0, 0.100)",
         "gridwidth": 0.5,
         "linecolor": "rgba(0, 0, 0, 1.000)",
         "mirror": false,
         "range": [
          -51.07,
          1400.07
         ],
         "showgrid": true,
         "showline": true,
         "showticklabels": true,
         "tickangle": 0,
         "tickcolor": "rgb(0, 0, 0)",
         "tickfont": {
          "color": "rgba(0, 0, 0, 1.000)",
          "family": "sans-serif",
          "size": 11
         },
         "tickmode": "array",
         "ticks": "inside",
         "ticktext": [
          "0",
          "250",
          "500",
          "750",
          "1000",
          "1250"
         ],
         "tickvals": [
          0,
          250,
          500,
          750,
          1000,
          1250
         ],
         "title": "y-axis",
         "titlefont": {
          "color": "rgba(0, 0, 0, 1.000)",
          "family": "sans-serif",
          "size": 15
         },
         "type": "-",
         "visible": true,
         "zeroline": false,
         "zerolinecolor": "rgba(0, 0, 0, 1.000)"
        }
       }
      },
      "text/html": [
       "<!DOCTYPE html>\n",
       "<html>\n",
       "    <head>\n",
       "        <title>Plots.jl</title>\n",
       "        <meta http-equiv=\"content-type\" content=\"text/html; charset=UTF-8\">\n",
       "        \n",
       "    </head>\n",
       "    <body>\n",
       "            <div id=\"087bb884-4e6c-471a-9c63-2ad0d72aee6a\" style=\"width:600px;height:400px;\"></div>\n",
       "    <script>\n",
       "        requirejs.config({\n",
       "        paths: {\n",
       "            Plotly: 'https://cdn.plot.ly/plotly-1.57.1.min'\n",
       "        }\n",
       "    });\n",
       "    require(['Plotly'], function (Plotly) {\n",
       "\n",
       "    PLOT = document.getElementById('087bb884-4e6c-471a-9c63-2ad0d72aee6a');\n",
       "    Plotly.plot(PLOT, [\n",
       "    {\n",
       "        \"xaxis\": \"x\",\n",
       "        \"colorbar\": {\n",
       "            \"title\": \"\"\n",
       "        },\n",
       "        \"yaxis\": \"y\",\n",
       "        \"x\": [\n",
       "            -30,\n",
       "            -29,\n",
       "            -28,\n",
       "            -27,\n",
       "            -26,\n",
       "            -25,\n",
       "            -24,\n",
       "            -23,\n",
       "            -22,\n",
       "            -21,\n",
       "            -20,\n",
       "            -19,\n",
       "            -18,\n",
       "            -17,\n",
       "            -16,\n",
       "            -15,\n",
       "            -14,\n",
       "            -13,\n",
       "            -12,\n",
       "            -11,\n",
       "            -10,\n",
       "            -9,\n",
       "            -8,\n",
       "            -7,\n",
       "            -6,\n",
       "            -5,\n",
       "            -4,\n",
       "            -3,\n",
       "            -2,\n",
       "            -1,\n",
       "            0,\n",
       "            1,\n",
       "            2,\n",
       "            3,\n",
       "            4,\n",
       "            5,\n",
       "            6,\n",
       "            7,\n",
       "            8,\n",
       "            9,\n",
       "            10,\n",
       "            11,\n",
       "            12,\n",
       "            13,\n",
       "            14,\n",
       "            15,\n",
       "            16,\n",
       "            17,\n",
       "            18,\n",
       "            19,\n",
       "            20,\n",
       "            21,\n",
       "            22,\n",
       "            23,\n",
       "            24,\n",
       "            25,\n",
       "            26,\n",
       "            27,\n",
       "            28,\n",
       "            29,\n",
       "            30\n",
       "        ],\n",
       "        \"showlegend\": true,\n",
       "        \"mode\": \"lines\",\n",
       "        \"name\": \"Parabola\",\n",
       "        \"zmin\": null,\n",
       "        \"legendgroup\": \"Parabola\",\n",
       "        \"zmax\": null,\n",
       "        \"line\": {\n",
       "            \"color\": \"rgba(0, 154, 250, 1.000)\",\n",
       "            \"shape\": \"linear\",\n",
       "            \"dash\": \"solid\",\n",
       "            \"width\": 1\n",
       "        },\n",
       "        \"y\": [\n",
       "            519.0,\n",
       "            474.0,\n",
       "            431.0,\n",
       "            390.0,\n",
       "            351.0,\n",
       "            314.0,\n",
       "            279.0,\n",
       "            246.0,\n",
       "            215.0,\n",
       "            186.0,\n",
       "            159.0,\n",
       "            134.0,\n",
       "            111.0,\n",
       "            90.0,\n",
       "            71.0,\n",
       "            54.0,\n",
       "            39.0,\n",
       "            26.0,\n",
       "            15.0,\n",
       "            6.0,\n",
       "            -1.0,\n",
       "            -6.0,\n",
       "            -9.0,\n",
       "            -10.0,\n",
       "            -9.0,\n",
       "            -6.0,\n",
       "            -1.0,\n",
       "            6.0,\n",
       "            15.0,\n",
       "            26.0,\n",
       "            39.0,\n",
       "            54.0,\n",
       "            71.0,\n",
       "            90.0,\n",
       "            111.0,\n",
       "            134.0,\n",
       "            159.0,\n",
       "            186.0,\n",
       "            215.0,\n",
       "            246.0,\n",
       "            279.0,\n",
       "            314.0,\n",
       "            351.0,\n",
       "            390.0,\n",
       "            431.0,\n",
       "            474.0,\n",
       "            519.0,\n",
       "            566.0,\n",
       "            615.0,\n",
       "            666.0,\n",
       "            719.0,\n",
       "            774.0,\n",
       "            831.0,\n",
       "            890.0,\n",
       "            951.0,\n",
       "            1014.0,\n",
       "            1079.0,\n",
       "            1146.0,\n",
       "            1215.0,\n",
       "            1286.0,\n",
       "            1359.0\n",
       "        ],\n",
       "        \"type\": \"scatter\"\n",
       "    },\n",
       "    {\n",
       "        \"xaxis\": \"x\",\n",
       "        \"colorbar\": {\n",
       "            \"title\": \"\"\n",
       "        },\n",
       "        \"yaxis\": \"y\",\n",
       "        \"x\": [\n",
       "            -30,\n",
       "            -29,\n",
       "            -28,\n",
       "            -27,\n",
       "            -26,\n",
       "            -25,\n",
       "            -24,\n",
       "            -23,\n",
       "            -22,\n",
       "            -21,\n",
       "            -20,\n",
       "            -19,\n",
       "            -18,\n",
       "            -17,\n",
       "            -16,\n",
       "            -15,\n",
       "            -14,\n",
       "            -13,\n",
       "            -12,\n",
       "            -11,\n",
       "            -10,\n",
       "            -9,\n",
       "            -8,\n",
       "            -7,\n",
       "            -6,\n",
       "            -5,\n",
       "            -4,\n",
       "            -3,\n",
       "            -2,\n",
       "            -1,\n",
       "            0,\n",
       "            1,\n",
       "            2,\n",
       "            3,\n",
       "            4,\n",
       "            5,\n",
       "            6,\n",
       "            7,\n",
       "            8,\n",
       "            9,\n",
       "            10,\n",
       "            11,\n",
       "            12,\n",
       "            13,\n",
       "            14,\n",
       "            15,\n",
       "            16,\n",
       "            17,\n",
       "            18,\n",
       "            19,\n",
       "            20,\n",
       "            21,\n",
       "            22,\n",
       "            23,\n",
       "            24,\n",
       "            25,\n",
       "            26,\n",
       "            27,\n",
       "            28,\n",
       "            29,\n",
       "            30\n",
       "        ],\n",
       "        \"showlegend\": true,\n",
       "        \"mode\": \"markers\",\n",
       "        \"name\": \"Points\",\n",
       "        \"zmin\": null,\n",
       "        \"legendgroup\": \"Points\",\n",
       "        \"marker\": {\n",
       "            \"symbol\": \"circle\",\n",
       "            \"color\": \"rgba(227, 111, 71, 1.000)\",\n",
       "            \"line\": {\n",
       "                \"color\": \"rgba(0, 0, 0, 1.000)\",\n",
       "                \"width\": 1\n",
       "            },\n",
       "            \"size\": 8\n",
       "        },\n",
       "        \"zmax\": null,\n",
       "        \"y\": [\n",
       "            519.0,\n",
       "            474.0,\n",
       "            431.0,\n",
       "            390.0,\n",
       "            351.0,\n",
       "            314.0,\n",
       "            279.0,\n",
       "            246.0,\n",
       "            215.0,\n",
       "            186.0,\n",
       "            159.0,\n",
       "            134.0,\n",
       "            111.0,\n",
       "            90.0,\n",
       "            71.0,\n",
       "            54.0,\n",
       "            39.0,\n",
       "            26.0,\n",
       "            15.0,\n",
       "            6.0,\n",
       "            -1.0,\n",
       "            -6.0,\n",
       "            -9.0,\n",
       "            -10.0,\n",
       "            -9.0,\n",
       "            -6.0,\n",
       "            -1.0,\n",
       "            6.0,\n",
       "            15.0,\n",
       "            26.0,\n",
       "            39.0,\n",
       "            54.0,\n",
       "            71.0,\n",
       "            90.0,\n",
       "            111.0,\n",
       "            134.0,\n",
       "            159.0,\n",
       "            186.0,\n",
       "            215.0,\n",
       "            246.0,\n",
       "            279.0,\n",
       "            314.0,\n",
       "            351.0,\n",
       "            390.0,\n",
       "            431.0,\n",
       "            474.0,\n",
       "            519.0,\n",
       "            566.0,\n",
       "            615.0,\n",
       "            666.0,\n",
       "            719.0,\n",
       "            774.0,\n",
       "            831.0,\n",
       "            890.0,\n",
       "            951.0,\n",
       "            1014.0,\n",
       "            1079.0,\n",
       "            1146.0,\n",
       "            1215.0,\n",
       "            1286.0,\n",
       "            1359.0\n",
       "        ],\n",
       "        \"type\": \"scatter\"\n",
       "    }\n",
       "]\n",
       ", {\n",
       "    \"showlegend\": true,\n",
       "    \"xaxis\": {\n",
       "        \"showticklabels\": true,\n",
       "        \"gridwidth\": 0.5,\n",
       "        \"tickvals\": [\n",
       "            -30.0,\n",
       "            -20.0,\n",
       "            -10.0,\n",
       "            0.0,\n",
       "            10.0,\n",
       "            20.0,\n",
       "            30.0\n",
       "        ],\n",
       "        \"range\": [\n",
       "            -31.8,\n",
       "            31.8\n",
       "        ],\n",
       "        \"domain\": [\n",
       "            0.09128390201224845,\n",
       "            0.9934383202099738\n",
       "        ],\n",
       "        \"mirror\": false,\n",
       "        \"tickangle\": 0,\n",
       "        \"showline\": true,\n",
       "        \"ticktext\": [\n",
       "            \"-30\",\n",
       "            \"-20\",\n",
       "            \"-10\",\n",
       "            \"0\",\n",
       "            \"10\",\n",
       "            \"20\",\n",
       "            \"30\"\n",
       "        ],\n",
       "        \"zeroline\": false,\n",
       "        \"tickfont\": {\n",
       "            \"color\": \"rgba(0, 0, 0, 1.000)\",\n",
       "            \"family\": \"sans-serif\",\n",
       "            \"size\": 11\n",
       "        },\n",
       "        \"zerolinecolor\": \"rgba(0, 0, 0, 1.000)\",\n",
       "        \"anchor\": \"y\",\n",
       "        \"visible\": true,\n",
       "        \"ticks\": \"inside\",\n",
       "        \"tickmode\": \"array\",\n",
       "        \"linecolor\": \"rgba(0, 0, 0, 1.000)\",\n",
       "        \"showgrid\": true,\n",
       "        \"title\": \"x-axis\",\n",
       "        \"gridcolor\": \"rgba(0, 0, 0, 0.100)\",\n",
       "        \"titlefont\": {\n",
       "            \"color\": \"rgba(0, 0, 0, 1.000)\",\n",
       "            \"family\": \"sans-serif\",\n",
       "            \"size\": 15\n",
       "        },\n",
       "        \"tickcolor\": \"rgb(0, 0, 0)\",\n",
       "        \"type\": \"-\"\n",
       "    },\n",
       "    \"paper_bgcolor\": \"rgba(255, 255, 255, 1.000)\",\n",
       "    \"annotations\": [\n",
       "        {\n",
       "            \"yanchor\": \"top\",\n",
       "            \"xanchor\": \"center\",\n",
       "            \"rotation\": -0.0,\n",
       "            \"y\": 1.0,\n",
       "            \"font\": {\n",
       "                \"color\": \"rgba(0, 0, 0, 1.000)\",\n",
       "                \"family\": \"sans-serif\",\n",
       "                \"size\": 20\n",
       "            },\n",
       "            \"yref\": \"paper\",\n",
       "            \"showarrow\": false,\n",
       "            \"text\": \"Transformation of parabola\",\n",
       "            \"xref\": \"paper\",\n",
       "            \"x\": 0.5423611111111111\n",
       "        }\n",
       "    ],\n",
       "    \"height\": 400,\n",
       "    \"margin\": {\n",
       "        \"l\": 0,\n",
       "        \"b\": 20,\n",
       "        \"r\": 0,\n",
       "        \"t\": 20\n",
       "    },\n",
       "    \"plot_bgcolor\": \"rgba(255, 255, 255, 1.000)\",\n",
       "    \"yaxis\": {\n",
       "        \"showticklabels\": true,\n",
       "        \"gridwidth\": 0.5,\n",
       "        \"tickvals\": [\n",
       "            0.0,\n",
       "            250.0,\n",
       "            500.0,\n",
       "            750.0,\n",
       "            1000.0,\n",
       "            1250.0\n",
       "        ],\n",
       "        \"range\": [\n",
       "            -51.07,\n",
       "            1400.07\n",
       "        ],\n",
       "        \"domain\": [\n",
       "            0.07581474190726165,\n",
       "            0.9415463692038496\n",
       "        ],\n",
       "        \"mirror\": false,\n",
       "        \"tickangle\": 0,\n",
       "        \"showline\": true,\n",
       "        \"ticktext\": [\n",
       "            \"0\",\n",
       "            \"250\",\n",
       "            \"500\",\n",
       "            \"750\",\n",
       "            \"1000\",\n",
       "            \"1250\"\n",
       "        ],\n",
       "        \"zeroline\": false,\n",
       "        \"tickfont\": {\n",
       "            \"color\": \"rgba(0, 0, 0, 1.000)\",\n",
       "            \"family\": \"sans-serif\",\n",
       "            \"size\": 11\n",
       "        },\n",
       "        \"zerolinecolor\": \"rgba(0, 0, 0, 1.000)\",\n",
       "        \"anchor\": \"x\",\n",
       "        \"visible\": true,\n",
       "        \"ticks\": \"inside\",\n",
       "        \"tickmode\": \"array\",\n",
       "        \"linecolor\": \"rgba(0, 0, 0, 1.000)\",\n",
       "        \"showgrid\": true,\n",
       "        \"title\": \"y-axis\",\n",
       "        \"gridcolor\": \"rgba(0, 0, 0, 0.100)\",\n",
       "        \"titlefont\": {\n",
       "            \"color\": \"rgba(0, 0, 0, 1.000)\",\n",
       "            \"family\": \"sans-serif\",\n",
       "            \"size\": 15\n",
       "        },\n",
       "        \"tickcolor\": \"rgb(0, 0, 0)\",\n",
       "        \"type\": \"-\"\n",
       "    },\n",
       "    \"legend\": {\n",
       "        \"yanchor\": \"auto\",\n",
       "        \"xanchor\": \"auto\",\n",
       "        \"bordercolor\": \"rgba(0, 0, 0, 1.000)\",\n",
       "        \"bgcolor\": \"rgba(255, 255, 255, 1.000)\",\n",
       "        \"borderwidth\": 1,\n",
       "        \"tracegroupgap\": 0,\n",
       "        \"y\": 1.0,\n",
       "        \"font\": {\n",
       "            \"color\": \"rgba(0, 0, 0, 1.000)\",\n",
       "            \"family\": \"sans-serif\",\n",
       "            \"size\": 11\n",
       "        },\n",
       "        \"title\": {\n",
       "            \"font\": {\n",
       "                \"color\": \"rgba(0, 0, 0, 1.000)\",\n",
       "                \"family\": \"sans-serif\",\n",
       "                \"size\": 15\n",
       "            },\n",
       "            \"text\": \"\"\n",
       "        },\n",
       "        \"traceorder\": \"normal\",\n",
       "        \"x\": 1.0\n",
       "    },\n",
       "    \"width\": 600\n",
       "}\n",
       ");\n",
       "    });\n",
       "    </script>\n",
       "\n",
       "    </body>\n",
       "</html>\n"
      ]
     },
     "execution_count": 31,
     "metadata": {},
     "output_type": "execute_result"
    }
   ],
   "source": [
    "plot(x,y,label=\"Parabola\")\n",
    "scatter!(x,y,label=\"Points\")\n",
    "xlabel!(\"x-axis\")\n",
    "ylabel!(\"y-axis\")\n",
    "title!(\"Transformation of parabola\")"
   ]
  },
  {
   "cell_type": "markdown",
   "metadata": {},
   "source": [
    "## Section 7: For loop and array\n",
    "### This section looks at the application of for loop and how to access and add items into a list\n",
    "Problem: An anagram is a rearrangement of letters to form a new word. Given a word and a list of candidates, select the sublist of anagrams of the given word. Given \"listen\" and a list of candidates like \"enable\" \"google\" \"inlets\" \"banana\" the program should return a list containing \"inlets\"."
   ]
  },
  {
   "cell_type": "code",
   "execution_count": 32,
   "metadata": {},
   "outputs": [],
   "source": [
    "input = \"listen\"\n",
    "list_1 = [\"enable\", \"google\", \"inlets\", \"banana\"]\n",
    "empty = []\n",
    "# Loop through the characters of input to creat a list of viable characters\n",
    "for i = 1:length(input)\n",
    "    global new_list = append!(empty,[input[i]])\n",
    "end"
   ]
  },
  {
   "cell_type": "code",
   "execution_count": 33,
   "metadata": {},
   "outputs": [
    {
     "name": "stdout",
     "output_type": "stream",
     "text": [
      "The valid element is inlets\n"
     ]
    }
   ],
   "source": [
    "# Loop through the list of words, to access individual words\n",
    "for i = 1:length(list_1)\n",
    "    element_1 = list_1[i]\n",
    "    \n",
    "    # Loop through each character of the word to check if it contains \n",
    "    # the viable character\n",
    "    for x = 1:length(list_1[i])\n",
    "        character = element_1[x]\n",
    "\n",
    "        if character in new_list\n",
    "            global value = true\n",
    "        else\n",
    "            global value = false\n",
    "            break\n",
    "        end \n",
    "    end      \n",
    "# Only if all the characters are valid, the value will be true\n",
    "# Return the word with all correct character\n",
    "if value == true\n",
    "    println(\"The valid element is \", element_1)  \n",
    "end   \n",
    "end"
   ]
  },
  {
   "cell_type": "markdown",
   "metadata": {},
   "source": [
    "## Section 8: Mathematical applications of Julia\n",
    "### This section looks at more applications of for loops and functions\n",
    "Problem: Find the difference between the square of the sum and the sum of the squares of the first N natural numbers."
   ]
  },
  {
   "cell_type": "code",
   "execution_count": 36,
   "metadata": {},
   "outputs": [
    {
     "name": "stdout",
     "output_type": "stream",
     "text": [
      "Input an integer for N to find out the difference between the squares of first N natural number\n",
      "stdin> 5\n"
     ]
    }
   ],
   "source": [
    "# Ask user for an input of an integer, this repersent N natural numbers\n",
    "println(\"Input an integer for N to find out the difference between the squares of first N natural number\")\n",
    "input = readline()\n",
    "number = tryparse(Int64,input)\n",
    "empty_list = []\n",
    "\n",
    "# Loop through the numbers to find their sum\n",
    "for i = 1:number\n",
    "    global num_list = append!(empty_list,[i])\n",
    "end"
   ]
  },
  {
   "cell_type": "code",
   "execution_count": 35,
   "metadata": {},
   "outputs": [
    {
     "data": {
      "text/plain": [
       "sum_squared (generic function with 1 method)"
      ]
     },
     "execution_count": 35,
     "metadata": {},
     "output_type": "execute_result"
    }
   ],
   "source": [
    "# Function to find the square of sum\n",
    "function sum_squared(num_list)\n",
    "    total_1 = sum(num_list)\n",
    "    squared_1 = total_1 ^ 2\n",
    "    return squared_1\n",
    "end"
   ]
  },
  {
   "cell_type": "code",
   "execution_count": 37,
   "metadata": {},
   "outputs": [
    {
     "data": {
      "text/plain": [
       "squared_sum (generic function with 1 method)"
      ]
     },
     "execution_count": 37,
     "metadata": {},
     "output_type": "execute_result"
    }
   ],
   "source": [
    "# Function to find the sum of squares\n",
    "function squared_sum(number)\n",
    "    total_2 = 0\n",
    "    # Loop through to find the squares of each number\n",
    "    for i = 1:number\n",
    "        total_2 += i^2\n",
    "    end\n",
    "    return total_2\n",
    "end"
   ]
  },
  {
   "cell_type": "code",
   "execution_count": 38,
   "metadata": {},
   "outputs": [
    {
     "name": "stdout",
     "output_type": "stream",
     "text": [
      "The difference between 225 and 55 is 170.\n"
     ]
    }
   ],
   "source": [
    "sum_1 = sum_squared(num_list)\n",
    "sum_2 = squared_sum(number)\n",
    "difference = sum_1 - sum_2\n",
    "println(\"The difference between \", sum_1, \" and \", sum_2, \" is \", difference, \".\")"
   ]
  },
  {
   "cell_type": "markdown",
   "metadata": {},
   "source": [
    "## Section 9: More mathematical applications\n",
    "### This section looks at combining the use of arrays with conditional statements and loops\n",
    "Problem: Given a number determine whether or not it is valid per the Luhn formula. The Luhn algorithm is a simple checksum formula used to validate a variety of identification numbers. Every second number from right is doubled, if doubled number exceed 9, subtract 9. After doubling, add all digits together, if the sum is a multiple of 10, then it is a valid number\n",
    "(Eg. 4539319503436467 is a valid number)"
   ]
  },
  {
   "cell_type": "code",
   "execution_count": 35,
   "metadata": {},
   "outputs": [
    {
     "name": "stdout",
     "output_type": "stream",
     "text": [
      "Please enter 16 digits of credit card number\n",
      "stdin> 2539578294823948\n"
     ]
    },
    {
     "data": {
      "text/plain": [
       "\"2539578294823948\""
      ]
     },
     "execution_count": 35,
     "metadata": {},
     "output_type": "execute_result"
    }
   ],
   "source": [
    "# Ask for user's input\n",
    "println(\"Please enter 16 digits of credit card number\")\n",
    "number = readline()"
   ]
  },
  {
   "cell_type": "code",
   "execution_count": 36,
   "metadata": {},
   "outputs": [],
   "source": [
    "# Check the length of input, if it is not 16 digits, ask again\n",
    "while length(number) != 16\n",
    "    println(\"Your input is not valid, please enter 16 digits of number\")\n",
    "    global number = readline()\n",
    "end"
   ]
  },
  {
   "cell_type": "code",
   "execution_count": 37,
   "metadata": {},
   "outputs": [],
   "source": [
    "empty = []\n",
    "\n",
    "# Loop through each number in the sequence\n",
    "for i = 1:16\n",
    "    # Converting each character to string and then convert to integer\n",
    "    num = string(number[i])\n",
    "    num = tryparse(Int64, num)\n",
    "    # Every second number from the left need to be doubled\n",
    "    if i % 2 == 1\n",
    "        num = num*2\n",
    "        # After the doubling, if the number exceeds 9, subtract 9\n",
    "        if num > 9\n",
    "            num = num-9\n",
    "            new_list = append!(empty,num)\n",
    "        else\n",
    "            new_list = append!(empty,num)\n",
    "        end\n",
    "    else\n",
    "        new_list = append!(empty,num)\n",
    "    end\n",
    "# All number in order is inserted into the list\n",
    "global completed_list = new_list\n",
    "end"
   ]
  },
  {
   "cell_type": "code",
   "execution_count": 38,
   "metadata": {},
   "outputs": [
    {
     "name": "stdout",
     "output_type": "stream",
     "text": [
      "This number 2539578294823948 is not valid according to luhn algorithm!\n"
     ]
    }
   ],
   "source": [
    "# Find the total of the adjusted sequence\n",
    "total = sum(completed_list)\n",
    "\n",
    "# If the total is divisible by 10, then it is valid under Luhn's formula\n",
    "if total % 10 == 0\n",
    "    println(\"This number \", number, \" is valid according to luhn algorithm! :>\")\n",
    "else\n",
    "    println(\"This number \", number, \" is not valid according to luhn algorithm!\")\n",
    "end"
   ]
  }
 ],
 "metadata": {
  "kernelspec": {
   "display_name": "Julia 1.6.0",
   "language": "julia",
   "name": "julia-1.6"
  },
  "language_info": {
   "file_extension": ".jl",
   "mimetype": "application/julia",
   "name": "julia",
   "version": "1.6.0"
  }
 },
 "nbformat": 4,
 "nbformat_minor": 4
}
